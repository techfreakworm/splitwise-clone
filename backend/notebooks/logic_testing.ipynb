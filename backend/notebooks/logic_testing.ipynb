{
 "cells": [
  {
   "cell_type": "code",
   "execution_count": 6,
   "id": "75bd1ed6-4c9f-4abf-bbe7-63d204181ea7",
   "metadata": {},
   "outputs": [],
   "source": [
    "import pandas as pd\n",
    "import numpy as np"
   ]
  },
  {
   "cell_type": "code",
   "execution_count": 3,
   "id": "9283b002-27eb-4146-b8ce-52a7c74c8757",
   "metadata": {},
   "outputs": [],
   "source": [
    "df = pd.read_csv('test.csv')"
   ]
  },
  {
   "cell_type": "code",
   "execution_count": 4,
   "id": "5e22d2d0-5d4b-4ecf-8124-64eb76129413",
   "metadata": {},
   "outputs": [
    {
     "data": {
      "text/html": [
       "<div>\n",
       "<style scoped>\n",
       "    .dataframe tbody tr th:only-of-type {\n",
       "        vertical-align: middle;\n",
       "    }\n",
       "\n",
       "    .dataframe tbody tr th {\n",
       "        vertical-align: top;\n",
       "    }\n",
       "\n",
       "    .dataframe thead th {\n",
       "        text-align: right;\n",
       "    }\n",
       "</style>\n",
       "<table border=\"1\" class=\"dataframe\">\n",
       "  <thead>\n",
       "    <tr style=\"text-align: right;\">\n",
       "      <th></th>\n",
       "      <th>id</th>\n",
       "      <th>expense_id</th>\n",
       "      <th>payee_id</th>\n",
       "      <th>share_amount</th>\n",
       "      <th>pending_amount</th>\n",
       "      <th>payer_id</th>\n",
       "      <th>created_at</th>\n",
       "      <th>updated_at</th>\n",
       "    </tr>\n",
       "  </thead>\n",
       "  <tbody>\n",
       "    <tr>\n",
       "      <th>0</th>\n",
       "      <td>1</td>\n",
       "      <td>1</td>\n",
       "      <td>3</td>\n",
       "      <td>100.0</td>\n",
       "      <td>200.0</td>\n",
       "      <td>3</td>\n",
       "      <td>2022-10-25 10:54:53</td>\n",
       "      <td>2022-10-25 10:54:53</td>\n",
       "    </tr>\n",
       "    <tr>\n",
       "      <th>1</th>\n",
       "      <td>2</td>\n",
       "      <td>1</td>\n",
       "      <td>1</td>\n",
       "      <td>50.0</td>\n",
       "      <td>-50.0</td>\n",
       "      <td>3</td>\n",
       "      <td>2022-10-25 10:54:53</td>\n",
       "      <td>2022-10-25 10:54:53</td>\n",
       "    </tr>\n",
       "    <tr>\n",
       "      <th>2</th>\n",
       "      <td>4</td>\n",
       "      <td>2</td>\n",
       "      <td>1</td>\n",
       "      <td>100.0</td>\n",
       "      <td>200.0</td>\n",
       "      <td>1</td>\n",
       "      <td>2022-10-25 10:55:17</td>\n",
       "      <td>2022-10-25 10:55:17</td>\n",
       "    </tr>\n",
       "    <tr>\n",
       "      <th>3</th>\n",
       "      <td>5</td>\n",
       "      <td>2</td>\n",
       "      <td>3</td>\n",
       "      <td>100.0</td>\n",
       "      <td>-100.0</td>\n",
       "      <td>1</td>\n",
       "      <td>2022-10-25 10:55:17</td>\n",
       "      <td>2022-10-25 10:55:17</td>\n",
       "    </tr>\n",
       "  </tbody>\n",
       "</table>\n",
       "</div>"
      ],
      "text/plain": [
       "   id  expense_id  payee_id  share_amount  pending_amount  payer_id  \\\n",
       "0   1           1         3         100.0           200.0         3   \n",
       "1   2           1         1          50.0           -50.0         3   \n",
       "2   4           2         1         100.0           200.0         1   \n",
       "3   5           2         3         100.0          -100.0         1   \n",
       "\n",
       "            created_at           updated_at  \n",
       "0  2022-10-25 10:54:53  2022-10-25 10:54:53  \n",
       "1  2022-10-25 10:54:53  2022-10-25 10:54:53  \n",
       "2  2022-10-25 10:55:17  2022-10-25 10:55:17  \n",
       "3  2022-10-25 10:55:17  2022-10-25 10:55:17  "
      ]
     },
     "execution_count": 4,
     "metadata": {},
     "output_type": "execute_result"
    }
   ],
   "source": [
    "df"
   ]
  },
  {
   "cell_type": "code",
   "execution_count": 9,
   "id": "1b488ce6-0aaf-483f-b461-e4013bd23309",
   "metadata": {},
   "outputs": [
    {
     "data": {
      "text/plain": [
       "200.0"
      ]
     },
     "execution_count": 9,
     "metadata": {},
     "output_type": "execute_result"
    }
   ],
   "source": [
    "# SUM of shares of non-negative pendings\n",
    "shares_sum = np.sum(df[df.pending_amount >= 0].share_amount)\n",
    "shares_sum"
   ]
  },
  {
   "cell_type": "code",
   "execution_count": 15,
   "id": "e62030d5-04ae-4757-a722-66625f4bc3d4",
   "metadata": {},
   "outputs": [
    {
     "data": {
      "text/html": [
       "<div>\n",
       "<style scoped>\n",
       "    .dataframe tbody tr th:only-of-type {\n",
       "        vertical-align: middle;\n",
       "    }\n",
       "\n",
       "    .dataframe tbody tr th {\n",
       "        vertical-align: top;\n",
       "    }\n",
       "\n",
       "    .dataframe thead th {\n",
       "        text-align: right;\n",
       "    }\n",
       "</style>\n",
       "<table border=\"1\" class=\"dataframe\">\n",
       "  <thead>\n",
       "    <tr style=\"text-align: right;\">\n",
       "      <th></th>\n",
       "      <th>payee_id</th>\n",
       "      <th>pending_amount</th>\n",
       "    </tr>\n",
       "  </thead>\n",
       "  <tbody>\n",
       "    <tr>\n",
       "      <th>0</th>\n",
       "      <td>1</td>\n",
       "      <td>-50.0</td>\n",
       "    </tr>\n",
       "    <tr>\n",
       "      <th>1</th>\n",
       "      <td>3</td>\n",
       "      <td>-100.0</td>\n",
       "    </tr>\n",
       "  </tbody>\n",
       "</table>\n",
       "</div>"
      ],
      "text/plain": [
       "   payee_id  pending_amount\n",
       "0         1           -50.0\n",
       "1         3          -100.0"
      ]
     },
     "execution_count": 15,
     "metadata": {},
     "output_type": "execute_result"
    }
   ],
   "source": [
    "negative_pendings_grouped = df[df.pending_amount < 0].groupby('payee_id').sum()['pending_amount'].reset_index()\n",
    "negative_pendings_grouped"
   ]
  },
  {
   "cell_type": "code",
   "execution_count": 21,
   "id": "999ac33c-edd9-49f0-a8e8-e6e93cef1e2d",
   "metadata": {},
   "outputs": [],
   "source": [
    "pendings = np.abs(negative_pendings_grouped.pending_amount.values)"
   ]
  },
  {
   "cell_type": "code",
   "execution_count": 24,
   "id": "9652f400-034d-4a49-acd4-0aa541f6202c",
   "metadata": {},
   "outputs": [
    {
     "data": {
      "text/plain": [
       "False"
      ]
     },
     "execution_count": 24,
     "metadata": {},
     "output_type": "execute_result"
    }
   ],
   "source": [
    "is_first_payer = None\n",
    "if pendings[0] < pendings[1]:\n",
    "    is_first_payer = False\n",
    "else:\n",
    "    is_first_payer = True\n",
    "is_first_payer"
   ]
  },
  {
   "cell_type": "code",
   "execution_count": 26,
   "id": "65b1542a-334a-4cd3-bca9-473fc955570d",
   "metadata": {},
   "outputs": [
    {
     "name": "stdout",
     "output_type": "stream",
     "text": [
      "3 will pay to 1\n"
     ]
    }
   ],
   "source": [
    "if is_first_payer:\n",
    "    print(f'{negative_pendings_grouped.payee_id[0]} will pay to {negative_pendings_grouped.payee_id[1]}')\n",
    "else:\n",
    "    print(f'{negative_pendings_grouped.payee_id[1]} will pay to {negative_pendings_grouped.payee_id[0]}')"
   ]
  },
  {
   "cell_type": "code",
   "execution_count": 28,
   "id": "cf0eead5-90d7-4779-8e50-4ec04072921a",
   "metadata": {},
   "outputs": [
    {
     "data": {
      "text/plain": [
       "50.0"
      ]
     },
     "execution_count": 28,
     "metadata": {},
     "output_type": "execute_result"
    }
   ],
   "source": [
    "# For how much pay\n",
    "shares_sum - np.sum(pendings)"
   ]
  },
  {
   "cell_type": "code",
   "execution_count": null,
   "id": "3525d3c7-7a41-4a20-aa55-ea5c214f9ce6",
   "metadata": {},
   "outputs": [],
   "source": []
  }
 ],
 "metadata": {
  "kernelspec": {
   "display_name": "Python 3 (ipykernel)",
   "language": "python",
   "name": "python3"
  },
  "language_info": {
   "codemirror_mode": {
    "name": "ipython",
    "version": 3
   },
   "file_extension": ".py",
   "mimetype": "text/x-python",
   "name": "python",
   "nbconvert_exporter": "python",
   "pygments_lexer": "ipython3",
   "version": "3.9.10"
  }
 },
 "nbformat": 4,
 "nbformat_minor": 5
}
